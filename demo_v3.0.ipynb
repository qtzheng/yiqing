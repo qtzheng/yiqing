{
 "cells": [
  {
   "cell_type": "code",
   "execution_count": 14,
   "metadata": {},
   "outputs": [],
   "source": [
    "import re\n",
    "import os\n",
    "import tensorflow as tf\n",
    "import numpy as np\n",
    "import pandas as pd\n",
    "from tqdm import tqdm\n",
    "from transformers import XLNetTokenizer, TFXLNetModel,TFXLNetPreTrainedModel,TFXLNetMainLayer,TFSequenceSummary\n",
    "from transformers.modeling_tf_utils import get_initializer"
   ]
  },
  {
   "cell_type": "code",
   "execution_count": 2,
   "metadata": {},
   "outputs": [],
   "source": [
    "tokenizer = XLNetTokenizer.from_pretrained('model/xlnet')"
   ]
  },
  {
   "cell_type": "code",
   "execution_count": 3,
   "metadata": {},
   "outputs": [],
   "source": [
    "class InputFeatures(object):\n",
    "    def __init__(self,input_ids,token_type_ids,attention_mask,label):\n",
    "        self.input_ids=input_ids\n",
    "        self.token_type_ids=token_type_ids\n",
    "        self.attention_mask=attention_mask \n",
    "        self.label=int(label)\n",
    "        \n",
    "class InputExample(object):\n",
    "    def __init__(self,category,query1,query2,label):\n",
    "        self.re_punctuation='[{}]+'.format(''';'\",.!?；‘’“”，。！？''')\n",
    "        self.category=category\n",
    "        self.query1=re.sub(self.re_punctuation, '', query1)\n",
    "        self.query2=re.sub(self.re_punctuation, '', query2 )\n",
    "        self.label=int(label)\n",
    "        \n",
    "    def convert_to_features(self,trans=False):\n",
    "        encode_data=None\n",
    "        if trans:\n",
    "            encode_data=tokenizer.encode_plus(self.query2,self.query1,max_length=64,pad_to_max_length=True)\n",
    "        else:\n",
    "            encode_data=tokenizer.encode_plus(self.query1,self.query2,max_length=64,pad_to_max_length=True)\n",
    "        return InputFeatures(encode_data['input_ids'],encode_data['token_type_ids'],encode_data['attention_mask'],self.label)\n",
    "\n",
    "        \n",
    "def read_file(data_path):\n",
    "    if os.path.exists(data_path):\n",
    "        return pd.read_csv(data_path).dropna()\n",
    "    else:\n",
    "        raise FileNotFoundError('{0} not found.'.format(data_path))\n",
    "\n",
    "def get_examples(data_path):\n",
    "    examples = []\n",
    "    for i,line in read_file(data_path).iterrows():\n",
    "        examples.append(InputExample(line['category'],line['query1'],line['query2'],line['label']))\n",
    "    return examples\n",
    "\n",
    "def get_features(examples):\n",
    "    features=[]\n",
    "    for e in examples:\n",
    "        features.append(e.convert_to_features(False))\n",
    "        features.append(e.convert_to_features(True))\n",
    "    return features\n",
    "\n",
    "def get_dataset(features):\n",
    "    def gen():\n",
    "        for ex in features:\n",
    "            yield ({'input_ids': ex.input_ids,'attention_mask': ex.attention_mask,'token_type_ids': ex.token_type_ids},ex.label)\n",
    "    return tf.data.Dataset.from_generator(gen,\n",
    "                                          ({'input_ids': tf.int32,\n",
    "                                            'attention_mask': tf.int32,\n",
    "                                            'token_type_ids': tf.int32},\n",
    "                                           tf.int64),\n",
    "                                          ({'input_ids': tf.TensorShape([None]),\n",
    "                                            'attention_mask': tf.TensorShape([None]),\n",
    "                                            'token_type_ids': tf.TensorShape([None])},\n",
    "                                           tf.TensorShape([])))"
   ]
  },
  {
   "cell_type": "code",
   "execution_count": 4,
   "metadata": {},
   "outputs": [],
   "source": [
    "train_data = get_examples('data/train.csv')\n",
    "dev_data = get_examples('data/dev.csv')"
   ]
  },
  {
   "cell_type": "code",
   "execution_count": 5,
   "metadata": {},
   "outputs": [],
   "source": [
    "train_features = get_features(train_data)\n",
    "dev_features = get_features(dev_data)"
   ]
  },
  {
   "cell_type": "code",
   "execution_count": 6,
   "metadata": {},
   "outputs": [],
   "source": [
    "train_dataset = get_dataset(train_features)\n",
    "dev_dataset = get_dataset(dev_features)"
   ]
  },
  {
   "cell_type": "code",
   "execution_count": 7,
   "metadata": {},
   "outputs": [],
   "source": [
    "train_dataset = train_dataset.shuffle(256).batch(64).repeat(-1)\n",
    "dev_dataset = dev_dataset.shuffle(256).batch(64).repeat(-1)"
   ]
  },
  {
   "cell_type": "code",
   "execution_count": 20,
   "metadata": {},
   "outputs": [],
   "source": [
    "class TFXLNetForYiQing(TFXLNetPreTrainedModel):\n",
    "    def __init__(self, config, *inputs, **kwargs):\n",
    "        super().__init__(config, *inputs, **kwargs)\n",
    "        self.transformer = TFXLNetMainLayer(config, name=\"transformer\")\n",
    "        self.seq_summary = TFSequenceSummary(config,name=\"seq_summary\")\n",
    "        self.first_dropout = tf.keras.layers.Dropout(0.2)\n",
    "        self.lstm1 = tf.keras.layers.LSTM(128,return_sequences= True,dropout=0.2)\n",
    "        self.lstm2 = tf.keras.layers.LSTM(256,dropout=0.2)\n",
    "        self.logits_proj = tf.keras.layers.Dense(\n",
    "            config.num_labels, kernel_initializer=get_initializer(config.initializer_range),activation='sigmoid', name=\"logits_proj\")\n",
    "    def call(self, inputs, **kwargs):\n",
    "        outputs = self.transformer(inputs, **kwargs)\n",
    "        outputs = self.first_dropout(outputs)\n",
    "        output_summary = self.seq_summary(outputs[0])\n",
    "        \n",
    "        output_lstm = self.lstm1(outputs[0])\n",
    "        output_lstm = self.lstm2(output_lstm)\n",
    "        output = tf.concat([output_lstm,output_summary],axis=1)\n",
    "        output = self.logits_proj(output)\n",
    "        return output\n",
    "\n",
    "\n",
    "model = TFXLNetForYiQing.from_pretrained('model/xlnet')\n",
    "model.transformer.trainable=False\n",
    "model.compile(optimizer='adam',loss='binary_crossentropy',metrics=['accuracy'])"
   ]
  },
  {
   "cell_type": "code",
   "execution_count": null,
   "metadata": {},
   "outputs": [],
   "source": []
  },
  {
   "cell_type": "code",
   "execution_count": 21,
   "metadata": {},
   "outputs": [
    {
     "name": "stdout",
     "output_type": "stream",
     "text": [
      "Model: \"tfxl_net_for_yi_qing_7\"\n",
      "_________________________________________________________________\n",
      "Layer (type)                 Output Shape              Param #   \n",
      "=================================================================\n",
      "transformer (TFXLNetMainLaye multiple                  116718336 \n",
      "_________________________________________________________________\n",
      "seq_summary (TFSequenceSumma multiple                  590592    \n",
      "_________________________________________________________________\n",
      "dropout_309 (Dropout)        multiple                  0         \n",
      "_________________________________________________________________\n",
      "lstm_11 (LSTM)               multiple                  213248    \n",
      "_________________________________________________________________\n",
      "lstm_12 (LSTM)               multiple                  98816     \n",
      "_________________________________________________________________\n",
      "logits_proj (Dense)          multiple                  897       \n",
      "=================================================================\n",
      "Total params: 117,621,889\n",
      "Trainable params: 903,553\n",
      "Non-trainable params: 116,718,336\n",
      "_________________________________________________________________\n"
     ]
    }
   ],
   "source": [
    "model.summary()"
   ]
  },
  {
   "cell_type": "code",
   "execution_count": 23,
   "metadata": {},
   "outputs": [
    {
     "name": "stdout",
     "output_type": "stream",
     "text": [
      "Train for 273 steps, validate for 62 steps\n",
      "Epoch 1/8\n",
      "273/273 - 108s - loss: 0.4071 - accuracy: 0.8159 - val_loss: 0.3828 - val_accuracy: 0.8465\n",
      "Epoch 2/8\n",
      "273/273 - 108s - loss: 0.4004 - accuracy: 0.8185 - val_loss: 0.3695 - val_accuracy: 0.8478\n",
      "Epoch 3/8\n",
      "273/273 - 108s - loss: 0.3987 - accuracy: 0.8224 - val_loss: 0.3779 - val_accuracy: 0.8480\n",
      "Epoch 4/8\n",
      "273/273 - 108s - loss: 0.3907 - accuracy: 0.8258 - val_loss: 0.3975 - val_accuracy: 0.8412\n",
      "Epoch 5/8\n",
      "273/273 - 108s - loss: 0.3918 - accuracy: 0.8250 - val_loss: 0.3454 - val_accuracy: 0.8609\n",
      "Epoch 6/8\n",
      "273/273 - 108s - loss: 0.3928 - accuracy: 0.8236 - val_loss: 0.4001 - val_accuracy: 0.8410\n",
      "Epoch 7/8\n",
      "273/273 - 108s - loss: 0.3933 - accuracy: 0.8264 - val_loss: 0.3413 - val_accuracy: 0.8584\n",
      "Epoch 8/8\n",
      "273/273 - 108s - loss: 0.3943 - accuracy: 0.8234 - val_loss: 0.3539 - val_accuracy: 0.8506\n"
     ]
    },
    {
     "data": {
      "text/plain": [
       "<tensorflow.python.keras.callbacks.History at 0x18a62d22b08>"
      ]
     },
     "execution_count": 23,
     "metadata": {},
     "output_type": "execute_result"
    }
   ],
   "source": [
    "train_steps = 273\n",
    "valid_steps = 62\n",
    "model.fit(train_dataset,\n",
    "          epochs=8,\n",
    "          steps_per_epoch=train_steps,\n",
    "          validation_data=dev_dataset,\n",
    "          validation_steps=valid_steps,\n",
    "          verbose=2)"
   ]
  },
  {
   "cell_type": "code",
   "execution_count": null,
   "metadata": {},
   "outputs": [],
   "source": []
  }
 ],
 "metadata": {
  "kernelspec": {
   "display_name": "Python 3",
   "language": "python",
   "name": "python3"
  },
  "language_info": {
   "codemirror_mode": {
    "name": "ipython",
    "version": 3
   },
   "file_extension": ".py",
   "mimetype": "text/x-python",
   "name": "python",
   "nbconvert_exporter": "python",
   "pygments_lexer": "ipython3",
   "version": "3.7.4"
  }
 },
 "nbformat": 4,
 "nbformat_minor": 2
}
