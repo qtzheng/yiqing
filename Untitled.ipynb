{
 "cells": [
  {
   "cell_type": "code",
   "execution_count": 1,
   "metadata": {},
   "outputs": [],
   "source": [
    "import re\n",
    "import os\n",
    "import tensorflow as tf\n",
    "import numpy as np\n",
    "import pandas as pd\n",
    "from transformers import XLNetTokenizer, TFXLNetForSequenceClassification"
   ]
  },
  {
   "cell_type": "code",
   "execution_count": 3,
   "metadata": {},
   "outputs": [],
   "source": [
    "model = TFXLNetForSequenceClassification.from_pretrained('model/xlnet')"
   ]
  },
  {
   "cell_type": "code",
   "execution_count": 4,
   "metadata": {},
   "outputs": [],
   "source": [
    "tokenizer = XLNetTokenizer.from_pretrained('model/xlnet')"
   ]
  },
  {
   "cell_type": "code",
   "execution_count": 5,
   "metadata": {},
   "outputs": [],
   "source": [
    "class InputFeatures(object):\n",
    "    def __init__(self,input_ids,token_type_ids,attention_mask,label):\n",
    "        self.input_ids=input_ids\n",
    "        self.token_type_ids=token_type_ids\n",
    "        self.attention_mask=attention_mask \n",
    "        self.label=int(label)\n",
    "        \n",
    "class InputExample(object):\n",
    "    def __init__(self,category,query1,query2,label):\n",
    "        self.re_punctuation='[{}]+'.format(''';'\",.!?；‘’“”，。！？''')\n",
    "        self.category=category\n",
    "        self.query1=re.sub(self.re_punctuation, '', query1)\n",
    "        self.query2=re.sub(self.re_punctuation, '', query2 )\n",
    "        self.label=int(label)\n",
    "        \n",
    "    def convert_to_features(self,trans=False):\n",
    "        encode_data=None\n",
    "        if trans:\n",
    "            encode_data=tokenizer.encode_plus(self.query2,self.query1,max_length=64,pad_to_max_length=True)\n",
    "        else:\n",
    "            encode_data=tokenizer.encode_plus(self.query1,self.query2,max_length=64,pad_to_max_length=True)\n",
    "        return InputFeatures(encode_data['input_ids'],encode_data['token_type_ids'],encode_data['attention_mask'],self.label)\n",
    "\n",
    "        \n",
    "def read_file(data_path):\n",
    "    if os.path.exists(data_path):\n",
    "        return pd.read_csv(data_path).dropna()\n",
    "    else:\n",
    "        raise FileNotFoundError('{0} not found.'.format(data_path))\n",
    "\n",
    "def get_examples(data_path):\n",
    "    examples = []\n",
    "    for i,line in read_file(data_path).iterrows():\n",
    "        examples.append(InputExample(line['category'],line['query1'],line['query2'],line['label']))\n",
    "    return examples\n",
    "\n",
    "def get_features(examples):\n",
    "    features=[]\n",
    "    for e in examples:\n",
    "        features.append(e.convert_to_features(False))\n",
    "        features.append(e.convert_to_features(True))\n",
    "    return features\n",
    "\n",
    "def get_dataset(features):\n",
    "    def gen():\n",
    "        for ex in features:\n",
    "            yield ({'input_ids': ex.input_ids,'attention_mask': ex.attention_mask,'token_type_ids': ex.token_type_ids},ex.label)\n",
    "    return tf.data.Dataset.from_generator(gen,\n",
    "                                          ({'input_ids': tf.int32,\n",
    "                                            'attention_mask': tf.int32,\n",
    "                                            'token_type_ids': tf.int32},\n",
    "                                           tf.int32),\n",
    "                                          ({'input_ids': tf.TensorShape([None]),\n",
    "                                            'attention_mask': tf.TensorShape([None]),\n",
    "                                            'token_type_ids': tf.TensorShape([None])},\n",
    "                                           tf.TensorShape([])))"
   ]
  },
  {
   "cell_type": "code",
   "execution_count": 6,
   "metadata": {},
   "outputs": [],
   "source": [
    "train_data = get_examples('data/train.csv')\n",
    "dev_data = get_examples('data/dev.csv')"
   ]
  },
  {
   "cell_type": "code",
   "execution_count": 7,
   "metadata": {},
   "outputs": [],
   "source": [
    "train_features = get_features(train_data)\n",
    "dev_features = get_features(dev_data)"
   ]
  },
  {
   "cell_type": "code",
   "execution_count": 23,
   "metadata": {},
   "outputs": [],
   "source": [
    "train_dataset = get_dataset(train_features)\n",
    "dev_dataset = get_dataset(dev_features)"
   ]
  },
  {
   "cell_type": "code",
   "execution_count": 24,
   "metadata": {},
   "outputs": [],
   "source": [
    "train_dataset = train_dataset.shuffle(128).batch(64).repeat(-1)\n",
    "dev_dataset = dev_dataset.shuffle(128).batch(64).repeat(-1)"
   ]
  },
  {
   "cell_type": "code",
   "execution_count": 25,
   "metadata": {},
   "outputs": [
    {
     "data": {
      "text/plain": [
       "<RepeatDataset shapes: ({input_ids: (None, None), attention_mask: (None, None), token_type_ids: (None, None)}, (None,)), types: ({input_ids: tf.int32, attention_mask: tf.int32, token_type_ids: tf.int32}, tf.int32)>"
      ]
     },
     "execution_count": 25,
     "metadata": {},
     "output_type": "execute_result"
    }
   ],
   "source": [
    "train_dataset"
   ]
  },
  {
   "cell_type": "code",
   "execution_count": 18,
   "metadata": {},
   "outputs": [],
   "source": [
    "model.compile(optimizer='adam',loss='binary_crossentropy',metrics=['accuracy'])"
   ]
  },
  {
   "cell_type": "code",
   "execution_count": 20,
   "metadata": {},
   "outputs": [],
   "source": [
    "model.transformer.trainable=False\n",
    "train_steps = len(train_features)//64\n",
    "valid_steps = len(dev_features)//64"
   ]
  },
  {
   "cell_type": "code",
   "execution_count": 26,
   "metadata": {},
   "outputs": [
    {
     "name": "stdout",
     "output_type": "stream",
     "text": [
      "Train for 273 steps, validate for 62 steps\n",
      "Epoch 1/2\n",
      "273/273 - 104s - loss: 3.0236 - accuracy: 0.5975 - val_loss: 0.5208 - val_accuracy: 0.7767\n",
      "Epoch 2/2\n",
      "273/273 - 105s - loss: 0.5970 - accuracy: 0.7282 - val_loss: 0.4780 - val_accuracy: 0.7870\n"
     ]
    },
    {
     "data": {
      "text/plain": [
       "<tensorflow.python.keras.callbacks.History at 0x1928c094088>"
      ]
     },
     "execution_count": 26,
     "metadata": {},
     "output_type": "execute_result"
    }
   ],
   "source": [
    "model.fit(train_dataset,\n",
    "          epochs=2,\n",
    "          steps_per_epoch=train_steps,\n",
    "          validation_data=dev_dataset,\n",
    "          validation_steps=valid_steps,\n",
    "          verbose=2)"
   ]
  },
  {
   "cell_type": "code",
   "execution_count": null,
   "metadata": {},
   "outputs": [],
   "source": [
    "predict_data = get_examples('data/train.csv')\n",
    "predict_features = get_features(predict_data)\n",
    "predict_dataset = get_dataset(predict_features)"
   ]
  },
  {
   "cell_type": "code",
   "execution_count": null,
   "metadata": {},
   "outputs": [],
   "source": [
    "model.predict()"
   ]
  }
 ],
 "metadata": {
  "kernelspec": {
   "display_name": "Python 3",
   "language": "python",
   "name": "python3"
  },
  "language_info": {
   "codemirror_mode": {
    "name": "ipython",
    "version": 3
   },
   "file_extension": ".py",
   "mimetype": "text/x-python",
   "name": "python",
   "nbconvert_exporter": "python",
   "pygments_lexer": "ipython3",
   "version": "3.7.4"
  }
 },
 "nbformat": 4,
 "nbformat_minor": 2
}
